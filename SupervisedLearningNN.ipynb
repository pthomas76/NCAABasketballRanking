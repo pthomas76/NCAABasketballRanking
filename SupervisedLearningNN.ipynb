{
 "cells": [
  {
   "cell_type": "code",
   "execution_count": 2,
   "id": "d325de8a",
   "metadata": {},
   "outputs": [],
   "source": [
    "import pandas as pd \n",
    "import numpy as np\n",
    "import statsmodels.api as sm\n",
    "import statsmodels.stats.api as sms\n",
    "from statsmodels.stats.outliers_influence import OLSInfluence\n",
    "from statsmodels.graphics.regressionplots import plot_leverage_resid2\n",
    "\n",
    "import matplotlib.pyplot as plt\n",
    "from sklearn.model_selection import train_test_split\n",
    "from sklearn import metrics\n",
    "from sklearn.neural_network import MLPRegressor\n",
    "import math"
   ]
  },
  {
   "cell_type": "code",
   "execution_count": 3,
   "id": "63e1bdb5",
   "metadata": {},
   "outputs": [],
   "source": [
    "def forward_selection(data, significance_level=0.01): #Selecting significant features, removing TEAM, CONF and W:G manually\n",
    "  \n",
    "  target = data[\"W:G\"].to_numpy()\n",
    "  features = data.columns.tolist()\n",
    "  lowest_p_value = 0\n",
    "  lowest_p_index = -1\n",
    "  for i in range(len(features)):\n",
    "    if (features[i] == \"TEAM\" or features[i] == \"CONF\" or features[i] == \"W:G\"):\n",
    "      continue\n",
    "    X = data.loc[:, features[i]]\n",
    "    X = sm.add_constant(X)\n",
    "    result = sm.OLS(target, X.astype(float)).fit()\n",
    "    curr_p_value = result.pvalues[1]\n",
    "    if lowest_p_index == -1 or lowest_p_value > curr_p_value:\n",
    "        lowest_p_value = curr_p_value\n",
    "        lowest_p_index = i\n",
    "\n",
    "  removed_features = [data.loc[:, features.pop(lowest_p_index)].name]\n",
    "  while (True):\n",
    "      lowest_p_value = 0\n",
    "      lowest_p_index = -1\n",
    "      for i in range(len(features)):\n",
    "        if (features[i] == \"TEAM\" or features[i] == \"CONF\" or features[i] == \"W:G\"):\n",
    "          continue\n",
    "        removed_features.append(features[i])\n",
    "        X = data.loc[:, removed_features]\n",
    "        X = sm.add_constant(X)\n",
    "        result = sm.OLS(target, X.astype(float)).fit()\n",
    "        removed_features.remove(features[i])\n",
    "        curr_value = result.pvalues[len(result.pvalues) - 1]\n",
    "        if lowest_p_index == -1 or lowest_p_value > curr_value:\n",
    "            lowest_p_value = curr_value\n",
    "            lowest_p_index = i\n",
    "    \n",
    "      if (lowest_p_value >= significance_level):\n",
    "        return removed_features\n",
    "      else:\n",
    "        if (len(features) == 0):\n",
    "            break\n",
    "        removed_features.append(features.pop(lowest_p_index))\n",
    "          \n",
    "  return removed_features"
   ]
  },
  {
   "cell_type": "code",
   "execution_count": 4,
   "id": "00149066",
   "metadata": {},
   "outputs": [],
   "source": [
    "def top_features(columns, size): # Return the most important features from forward selection\n",
    "    return columns[:size]"
   ]
  },
  {
   "cell_type": "code",
   "execution_count": 5,
   "id": "37717222",
   "metadata": {},
   "outputs": [],
   "source": [
    "def neural_network(X, y):\n",
    "    model = MLPRegressor(max_iter=1000, solver='lbfgs', hidden_layer_sizes=(200,200))\n",
    "    results = model.fit(X, y)\n",
    "    return results"
   ]
  },
  {
   "cell_type": "code",
   "execution_count": 6,
   "id": "e51b0192",
   "metadata": {},
   "outputs": [],
   "source": [
    "def display_summary(results):\n",
    "    print(results.summary())"
   ]
  },
  {
   "cell_type": "code",
   "execution_count": 26,
   "id": "7f7881d7",
   "metadata": {},
   "outputs": [],
   "source": [
    "\"\"\"\n",
    "Load the preprocessed dataset\n",
    "\"\"\"\n",
    "csv_name = 'cleaned_cbb.csv'\n",
    "data = pd.read_csv(csv_name)"
   ]
  },
  {
   "cell_type": "code",
   "execution_count": 27,
   "id": "6c755120",
   "metadata": {},
   "outputs": [
    {
     "name": "stdout",
     "output_type": "stream",
     "text": [
      "['ADJOE', 'WAB', 'EFG_O', 'TOR', 'ORB']\n"
     ]
    }
   ],
   "source": [
    "\"\"\"\n",
    "Select the top features from forward selection\n",
    "\"\"\"\n",
    "fwd_sel = forward_selection(data)\n",
    "important_features = top_features(fwd_sel, 5)\n",
    "print(important_features)\n",
    "X = data[important_features]\n",
    "y = data[\"W:G\"]"
   ]
  },
  {
   "cell_type": "code",
   "execution_count": 28,
   "id": "7448b4ff",
   "metadata": {},
   "outputs": [],
   "source": [
    "\"\"\"\n",
    "Split the dataset into a training and testing set\n",
    "\"\"\"\n",
    "X_train, X_test, y_train, y_test = train_test_split(X, y, test_size=0.3)"
   ]
  },
  {
   "cell_type": "code",
   "execution_count": 32,
   "id": "1bc04929",
   "metadata": {},
   "outputs": [],
   "source": [
    "\"\"\"\n",
    "Generate test and training MSE data\n",
    "\"\"\"\n",
    "model = MLPRegressor(max_iter=1000, hidden_layer_sizes=(200,200))\n",
    "train_mse = []\n",
    "test_mse = []\n",
    "for i in range(1000):\n",
    "    model.partial_fit(X_train, y_train)\n",
    "    train_mse.append(\n",
    "metrics.mean_squared_error(y_train, model.predict(X_train)))\n",
    "    test_mse.append(\n",
    "metrics.mean_squared_error(y_test, model.predict(X_test)))"
   ]
  },
  {
   "cell_type": "code",
   "execution_count": 37,
   "id": "99e5dfcb",
   "metadata": {},
   "outputs": [
    {
     "data": {
      "image/png": "[encoded data removed]",
      "text/plain": [
       "<Figure size 432x288 with 1 Axes>"
      ]
     },
     "metadata": {
      "needs_background": "light"
     },
     "output_type": "display_data"
    }
   ],
   "source": [
    "\"\"\"\n",
    "Plot the learning curve of the model for Training MSE\n",
    "\"\"\"\n",
    "plt.plot(train_mse, label=\"Train MSE\")\n",
    "# plt.plot(test_mse, label=\"Test MSE\")\n",
    "plt.xlabel('Iterations')\n",
    "plt.ylabel('MSE')\n",
    "plt.ylim(-0.01, 0.5)\n",
    "plt.legend(loc=\"upper left\")\n",
    "plt.show()"
   ]
  },
  {
   "cell_type": "code",
   "execution_count": 39,
   "id": "8821b8bd",
   "metadata": {},
   "outputs": [
    {
     "data": {
      "image/png": "[encoded data removed]",
      "text/plain": [
       "<Figure size 432x288 with 1 Axes>"
      ]
     },
     "metadata": {
      "needs_background": "light"
     },
     "output_type": "display_data"
    }
   ],
   "source": [
    "\"\"\"\n",
    "Plot the learning curve of the model for Training MSE\n",
    "\"\"\"\n",
    "# plt.plot(train_mse, label=\"Train MSE\")\n",
    "plt.plot(test_mse, label=\"Test MSE\", color=\"orange\")\n",
    "plt.xlabel('Iterations')\n",
    "plt.ylabel('MSE')\n",
    "plt.ylim(-0.01, 0.5)\n",
    "plt.legend(loc=\"upper left\")\n",
    "plt.show()"
   ]
  },
  {
   "cell_type": "code",
   "execution_count": 29,
   "id": "64cf3ad9",
   "metadata": {},
   "outputs": [],
   "source": [
    "\"\"\"\n",
    "Perform supervised learning to predict the win rate using selected features with Stochastic Gradient Descent on a Neural Network (Multi-Layer Perceptron)\n",
    "\"\"\"\n",
    "model = neural_network(X_train, y_train)"
   ]
  },
  {
   "cell_type": "code",
   "execution_count": 11,
   "id": "146b7a43",
   "metadata": {},
   "outputs": [
    {
     "data": {
      "text/plain": [
       "0.0027985718481439554"
      ]
     },
     "execution_count": 11,
     "metadata": {},
     "output_type": "execute_result"
    }
   ],
   "source": [
    "\"\"\"\n",
    "Training MSE\n",
    "\"\"\"\n",
    "metrics.mean_squared_error(y_test, model.predict(X_test))"
   ]
  },
  {
   "cell_type": "code",
   "execution_count": 12,
   "id": "95842baa",
   "metadata": {},
   "outputs": [
    {
     "data": {
      "text/plain": [
       "0.0030954849803328526"
      ]
     },
     "execution_count": 12,
     "metadata": {},
     "output_type": "execute_result"
    }
   ],
   "source": [
    "\"\"\"\n",
    "Test MSE\n",
    "\"\"\"\n",
    "metrics.mean_squared_error(y_test, model.predict(X_test))"
   ]
  },
  {
   "cell_type": "code",
   "execution_count": 13,
   "id": "cb7b0254",
   "metadata": {},
   "outputs": [
    {
     "data": {
      "text/plain": [
       "0.9137938702259525"
      ]
     },
     "execution_count": 13,
     "metadata": {},
     "output_type": "execute_result"
    }
   ],
   "source": [
    "\"\"\"\n",
    "Training Coefficient of Determination\n",
    "\"\"\"\n",
    "model.score(X_train, y_train)"
   ]
  },
  {
   "cell_type": "code",
   "execution_count": 14,
   "id": "0e6672a5",
   "metadata": {},
   "outputs": [
    {
     "data": {
      "text/plain": [
       "0.9029341976260374"
      ]
     },
     "execution_count": 14,
     "metadata": {},
     "output_type": "execute_result"
    }
   ],
   "source": [
    "\"\"\"\n",
    "Test Coefficient of Determination\n",
    "\"\"\"\n",
    "model.score(X_test, y_test)"
   ]
  },
  {
   "cell_type": "code",
   "execution_count": 17,
   "id": "de111adf",
   "metadata": {},
   "outputs": [
    {
     "name": "stdout",
     "output_type": "stream",
     "text": [
      "0.9137938702259525\n"
     ]
    },
    {
     "data": {
      "text/plain": [
       "0.9137938722081153"
      ]
     },
     "execution_count": 17,
     "metadata": {},
     "output_type": "execute_result"
    }
   ],
   "source": [
    "\"\"\"\n",
    "Calculate performance of the model on the train dataset\n",
    "\"\"\"\n",
    "predicted = model.predict(X_train)\n",
    "print(metrics.r2_score(y_train, predicted))\n",
    "metrics.explained_variance_score(y_train, predicted)"
   ]
  },
  {
   "cell_type": "code",
   "execution_count": 15,
   "id": "1a9eed82",
   "metadata": {},
   "outputs": [
    {
     "name": "stdout",
     "output_type": "stream",
     "text": [
      "0.9029341976260374\n"
     ]
    },
    {
     "data": {
      "text/plain": [
       "0.9029344230345149"
      ]
     },
     "execution_count": 15,
     "metadata": {},
     "output_type": "execute_result"
    }
   ],
   "source": [
    "\"\"\"\n",
    "Calculate performance of the model on a test dataset\n",
    "\"\"\"\n",
    "predicted = model.predict(X_test)\n",
    "print(metrics.r2_score(y_test, predicted))\n",
    "metrics.explained_variance_score(y_test, predicted)"
   ]
  },
  {
   "cell_type": "code",
   "execution_count": 16,
   "id": "bfcbe5e8",
   "metadata": {},
   "outputs": [
    {
     "name": "stdout",
     "output_type": "stream",
     "text": [
      "                  TEAM     SCORE\n",
      "54             Colgate  0.933563\n",
      "49            Winthrop  0.903266\n",
      "3              Gonzaga  0.898733\n",
      "45               Drake  0.861598\n",
      "31      Loyola Chicago  0.856498\n",
      "1               Baylor  0.848474\n",
      "2             Illinois  0.845733\n",
      "317   Prairie View A&M  0.844561\n",
      "56   Abilene Christian  0.840267\n",
      "346            Belmont  0.837822\n"
     ]
    }
   ],
   "source": [
    "\"\"\"\n",
    "Figure out the top teams in the 2021 season\n",
    "\"\"\"\n",
    "csv_name = 'cbb21.csv'\n",
    "data = pd.read_csv(csv_name)\n",
    "\n",
    "X = data[important_features]\n",
    "\n",
    "predicted = model.predict(X)\n",
    "data['SCORE'] = predicted\n",
    "\n",
    "order = list(reversed(np.argsort(predicted)))\n",
    "\n",
    "# Print top 10 teams\n",
    "print(data.loc[order[:10], ['TEAM', 'SCORE']])"
   ]
  },
  {
   "cell_type": "code",
   "execution_count": 22,
   "id": "c153d942",
   "metadata": {},
   "outputs": [
    {
     "data": {
      "text/plain": [
       "'\\nActual top teams in the 2021 season\\n\\nGonzaga\\nHouston\\nKansas\\nArizona\\nBaylor\\nVillanova\\nTennessee\\nTexas Tech\\nKentucky\\nDuke\\n'"
      ]
     },
     "execution_count": 22,
     "metadata": {},
     "output_type": "execute_result"
    }
   ],
   "source": [
    "\"\"\"\n",
    "Actual top teams in the 2021 season\n",
    "\n",
    "Gonzaga\n",
    "Houston\n",
    "Kansas\n",
    "Arizona\n",
    "Baylor\n",
    "Villanova\n",
    "Tennessee\n",
    "Texas Tech\n",
    "Kentucky\n",
    "Duke\n",
    "\"\"\""
   ]
  },
  {
   "cell_type": "code",
   "execution_count": null,
   "id": "95c4bca2",
   "metadata": {},
   "outputs": [],
   "source": []
  }
 ],
 "metadata": {
  "kernelspec": {
   "display_name": "Python 3",
   "language": "python",
   "name": "python3"
  },
  "language_info": {
   "codemirror_mode": {
    "name": "ipython",
    "version": 3
   },
   "file_extension": ".py",
   "mimetype": "text/x-python",
   "name": "python",
   "nbconvert_exporter": "python",
   "pygments_lexer": "ipython3",
   "version": "3.8.8"
  }
 },
 "nbformat": 4,
 "nbformat_minor": 5
}
