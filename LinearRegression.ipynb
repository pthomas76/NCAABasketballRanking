{
 "cells": [
  {
   "cell_type": "code",
   "execution_count": 22,
   "id": "d325de8a",
   "metadata": {},
   "outputs": [],
   "source": [
    "import pandas as pd \n",
    "import numpy as np\n",
    "import statsmodels.api as sm\n",
    "import statsmodels.stats.api as sms\n",
    "from statsmodels.stats.outliers_influence import OLSInfluence\n",
    "from statsmodels.graphics.regressionplots import plot_leverage_resid2\n",
    "\n",
    "import matplotlib.pyplot as plt\n",
    "from sklearn.model_selection import train_test_split\n",
    "from sklearn import metrics\n",
    "import math"
   ]
  },
  {
   "cell_type": "code",
   "execution_count": 23,
   "id": "63e1bdb5",
   "metadata": {},
   "outputs": [],
   "source": [
    "def forward_selection(data, significance_level=0.01): #Selecting significant features, removing TEAM, CONF and W:G manually\n",
    "  \n",
    "  target = data[\"W:G\"].to_numpy()\n",
    "  features = data.columns.tolist()\n",
    "  lowest_p_value = 0\n",
    "  lowest_p_index = -1\n",
    "  for i in range(len(features)):\n",
    "    if (features[i] == \"TEAM\" or features[i] == \"CONF\" or features[i] == \"W:G\"):\n",
    "      continue\n",
    "    X = data.loc[:, features[i]]\n",
    "    X = sm.add_constant(X)\n",
    "    result = sm.OLS(target, X.astype(float)).fit()\n",
    "    curr_p_value = result.pvalues[1]\n",
    "    if lowest_p_index == -1 or lowest_p_value > curr_p_value:\n",
    "        lowest_p_value = curr_p_value\n",
    "        lowest_p_index = i\n",
    "\n",
    "  removed_features = [data.loc[:, features.pop(lowest_p_index)].name]\n",
    "  while (True):\n",
    "      lowest_p_value = 0\n",
    "      lowest_p_index = -1\n",
    "      for i in range(len(features)):\n",
    "        if (features[i] == \"TEAM\" or features[i] == \"CONF\" or features[i] == \"W:G\"):\n",
    "          continue\n",
    "        removed_features.append(features[i])\n",
    "        X = data.loc[:, removed_features]\n",
    "        X = sm.add_constant(X)\n",
    "        result = sm.OLS(target, X.astype(float)).fit()\n",
    "        removed_features.remove(features[i])\n",
    "        curr_value = result.pvalues[len(result.pvalues) - 1]\n",
    "        if lowest_p_index == -1 or lowest_p_value > curr_value:\n",
    "            lowest_p_value = curr_value\n",
    "            lowest_p_index = i\n",
    "    \n",
    "      if (lowest_p_value >= significance_level):\n",
    "        return removed_features\n",
    "      else:\n",
    "        if (len(features) == 0):\n",
    "            break\n",
    "        removed_features.append(features.pop(lowest_p_index))\n",
    "          \n",
    "  return removed_features"
   ]
  },
  {
   "cell_type": "code",
   "execution_count": 24,
   "id": "00149066",
   "metadata": {},
   "outputs": [],
   "source": [
    "def top_features(columns, size): # Return the most important features from forward selection\n",
    "    return columns[:size]"
   ]
  },
  {
   "cell_type": "code",
   "execution_count": 25,
   "id": "37717222",
   "metadata": {},
   "outputs": [],
   "source": [
    "def linear_regression(X, y):\n",
    "    model = sm.OLS(y, X)\n",
    "    results = model.fit()\n",
    "    return results"
   ]
  },
  {
   "cell_type": "code",
   "execution_count": 26,
   "id": "e51b0192",
   "metadata": {},
   "outputs": [],
   "source": [
    "def display_summary(results):\n",
    "    print(results.summary())"
   ]
  },
  {
   "cell_type": "code",
   "execution_count": 27,
   "id": "7f7881d7",
   "metadata": {},
   "outputs": [],
   "source": [
    "\"\"\"\n",
    "Load the preprocessed dataset\n",
    "\"\"\"\n",
    "csv_name = 'cleaned_cbb.csv'\n",
    "data = pd.read_csv(csv_name)"
   ]
  },
  {
   "cell_type": "code",
   "execution_count": 28,
   "id": "6c755120",
   "metadata": {},
   "outputs": [
    {
     "name": "stdout",
     "output_type": "stream",
     "text": [
      "['ADJOE', 'WAB', 'EFG_O', 'TOR', 'ORB']\n"
     ]
    }
   ],
   "source": [
    "\"\"\"\n",
    "Select the top features from forward selection\n",
    "\"\"\"\n",
    "fwd_sel = forward_selection(data)\n",
    "important_features = top_features(fwd_sel, 5)\n",
    "print(important_features)\n",
    "X = data[important_features]\n",
    "y = data[\"W:G\"]"
   ]
  },
  {
   "cell_type": "code",
   "execution_count": 29,
   "id": "7448b4ff",
   "metadata": {},
   "outputs": [],
   "source": [
    "\"\"\"\n",
    "Split the dataset into a training and testing set\n",
    "\"\"\"\n",
    "X_train, X_test, y_train, y_test = train_test_split(X, y, test_size=0.2)"
   ]
  },
  {
   "cell_type": "code",
   "execution_count": 30,
   "id": "884f9a27",
   "metadata": {},
   "outputs": [
    {
     "data": {
      "text/html": [
       "<table class=\"simpletable\">\n",
       "<caption>OLS Regression Results</caption>\n",
       "<tr>\n",
       "  <th>Dep. Variable:</th>           <td>W:G</td>       <th>  R-squared (uncentered):</th>      <td>   0.985</td> \n",
       "</tr>\n",
       "<tr>\n",
       "  <th>Model:</th>                   <td>OLS</td>       <th>  Adj. R-squared (uncentered):</th> <td>   0.985</td> \n",
       "</tr>\n",
       "<tr>\n",
       "  <th>Method:</th>             <td>Least Squares</td>  <th>  F-statistic:       </th>          <td>2.578e+04</td>\n",
       "</tr>\n",
       "<tr>\n",
       "  <th>Date:</th>             <td>Wed, 20 Apr 2022</td> <th>  Prob (F-statistic):</th>           <td>  0.00</td>  \n",
       "</tr>\n",
       "<tr>\n",
       "  <th>Time:</th>                 <td>14:25:44</td>     <th>  Log-Likelihood:    </th>          <td>  2555.7</td> \n",
       "</tr>\n",
       "<tr>\n",
       "  <th>No. Observations:</th>      <td>  1964</td>      <th>  AIC:               </th>          <td>  -5101.</td> \n",
       "</tr>\n",
       "<tr>\n",
       "  <th>Df Residuals:</th>          <td>  1959</td>      <th>  BIC:               </th>          <td>  -5074.</td> \n",
       "</tr>\n",
       "<tr>\n",
       "  <th>Df Model:</th>              <td>     5</td>      <th>                     </th>              <td> </td>    \n",
       "</tr>\n",
       "<tr>\n",
       "  <th>Covariance Type:</th>      <td>nonrobust</td>    <th>                     </th>              <td> </td>    \n",
       "</tr>\n",
       "</table>\n",
       "<table class=\"simpletable\">\n",
       "<tr>\n",
       "    <td></td>       <th>coef</th>     <th>std err</th>      <th>t</th>      <th>P>|t|</th>  <th>[0.025</th>    <th>0.975]</th>  \n",
       "</tr>\n",
       "<tr>\n",
       "  <th>ADJOE</th> <td>   -0.0120</td> <td>    0.000</td> <td>  -26.339</td> <td> 0.000</td> <td>   -0.013</td> <td>   -0.011</td>\n",
       "</tr>\n",
       "<tr>\n",
       "  <th>WAB</th>   <td>    0.0206</td> <td>    0.000</td> <td>   70.724</td> <td> 0.000</td> <td>    0.020</td> <td>    0.021</td>\n",
       "</tr>\n",
       "<tr>\n",
       "  <th>EFG_O</th> <td>    0.0356</td> <td>    0.001</td> <td>   39.537</td> <td> 0.000</td> <td>    0.034</td> <td>    0.037</td>\n",
       "</tr>\n",
       "<tr>\n",
       "  <th>TOR</th>   <td>   -0.0132</td> <td>    0.001</td> <td>  -14.719</td> <td> 0.000</td> <td>   -0.015</td> <td>   -0.011</td>\n",
       "</tr>\n",
       "<tr>\n",
       "  <th>ORB</th>   <td>    0.0127</td> <td>    0.001</td> <td>   24.185</td> <td> 0.000</td> <td>    0.012</td> <td>    0.014</td>\n",
       "</tr>\n",
       "</table>\n",
       "<table class=\"simpletable\">\n",
       "<tr>\n",
       "  <th>Omnibus:</th>       <td> 2.295</td> <th>  Durbin-Watson:     </th> <td>   2.070</td>\n",
       "</tr>\n",
       "<tr>\n",
       "  <th>Prob(Omnibus):</th> <td> 0.317</td> <th>  Jarque-Bera (JB):  </th> <td>   2.134</td>\n",
       "</tr>\n",
       "<tr>\n",
       "  <th>Skew:</th>          <td> 0.005</td> <th>  Prob(JB):          </th> <td>   0.344</td>\n",
       "</tr>\n",
       "<tr>\n",
       "  <th>Kurtosis:</th>      <td> 2.839</td> <th>  Cond. No.          </th> <td>    100.</td>\n",
       "</tr>\n",
       "</table><br/><br/>Notes:<br/>[1] R² is computed without centering (uncentered) since the model does not contain a constant.<br/>[2] Standard Errors assume that the covariance matrix of the errors is correctly specified."
      ],
      "text/plain": [
       "<class 'statsmodels.iolib.summary.Summary'>\n",
       "\"\"\"\n",
       "                                 OLS Regression Results                                \n",
       "=======================================================================================\n",
       "Dep. Variable:                    W:G   R-squared (uncentered):                   0.985\n",
       "Model:                            OLS   Adj. R-squared (uncentered):              0.985\n",
       "Method:                 Least Squares   F-statistic:                          2.578e+04\n",
       "Date:                Wed, 20 Apr 2022   Prob (F-statistic):                        0.00\n",
       "Time:                        14:25:44   Log-Likelihood:                          2555.7\n",
       "No. Observations:                1964   AIC:                                     -5101.\n",
       "Df Residuals:                    1959   BIC:                                     -5074.\n",
       "Df Model:                           5                                                  \n",
       "Covariance Type:            nonrobust                                                  \n",
       "==============================================================================\n",
       "                 coef    std err          t      P>|t|      [0.025      0.975]\n",
       "------------------------------------------------------------------------------\n",
       "ADJOE         -0.0120      0.000    -26.339      0.000      -0.013      -0.011\n",
       "WAB            0.0206      0.000     70.724      0.000       0.020       0.021\n",
       "EFG_O          0.0356      0.001     39.537      0.000       0.034       0.037\n",
       "TOR           -0.0132      0.001    -14.719      0.000      -0.015      -0.011\n",
       "ORB            0.0127      0.001     24.185      0.000       0.012       0.014\n",
       "==============================================================================\n",
       "Omnibus:                        2.295   Durbin-Watson:                   2.070\n",
       "Prob(Omnibus):                  0.317   Jarque-Bera (JB):                2.134\n",
       "Skew:                           0.005   Prob(JB):                        0.344\n",
       "Kurtosis:                       2.839   Cond. No.                         100.\n",
       "==============================================================================\n",
       "\n",
       "Notes:\n",
       "[1] R² is computed without centering (uncentered) since the model does not contain a constant.\n",
       "[2] Standard Errors assume that the covariance matrix of the errors is correctly specified.\n",
       "\"\"\""
      ]
     },
     "execution_count": 30,
     "metadata": {},
     "output_type": "execute_result"
    }
   ],
   "source": [
    "\"\"\"\n",
    "Perform supervised learning to predict the win rate using selected features with Ordinary Linear Regression\n",
    "\"\"\"\n",
    "model = linear_regression(X_train, y_train)\n",
    "model.summary()"
   ]
  },
  {
   "cell_type": "code",
   "execution_count": 31,
   "id": "146b7a43",
   "metadata": {},
   "outputs": [
    {
     "data": {
      "text/plain": [
       "0.004337607092675051"
      ]
     },
     "execution_count": 31,
     "metadata": {},
     "output_type": "execute_result"
    }
   ],
   "source": [
    "\"\"\"\n",
    "Training MSE\n",
    "\"\"\"\n",
    "metrics.mean_squared_error(y_train, model.predict(X_train))"
   ]
  },
  {
   "cell_type": "code",
   "execution_count": 32,
   "id": "95842baa",
   "metadata": {},
   "outputs": [
    {
     "data": {
      "text/plain": [
       "0.004402449588294065"
      ]
     },
     "execution_count": 32,
     "metadata": {},
     "output_type": "execute_result"
    }
   ],
   "source": [
    "\"\"\"\n",
    "Test MSE\n",
    "\"\"\"\n",
    "metrics.mean_squared_error(y_test, model.predict(X_test))"
   ]
  },
  {
   "cell_type": "code",
   "execution_count": 33,
   "id": "1a9eed82",
   "metadata": {},
   "outputs": [
    {
     "name": "stdout",
     "output_type": "stream",
     "text": [
      "0.8632602779137972\n"
     ]
    },
    {
     "data": {
      "text/plain": [
       "0.8643059860065809"
      ]
     },
     "execution_count": 33,
     "metadata": {},
     "output_type": "execute_result"
    }
   ],
   "source": [
    "\"\"\"\n",
    "Calculate performance of the model on a test dataset\n",
    "\"\"\"\n",
    "predicted = model.predict(X_test)\n",
    "print(metrics.r2_score(y_test, predicted))\n",
    "metrics.explained_variance_score(y_test, predicted)"
   ]
  },
  {
   "cell_type": "code",
   "execution_count": 34,
   "id": "92469386",
   "metadata": {},
   "outputs": [
    {
     "data": {
      "image/png": "[encoded data removed]",
      "text/plain": [
       "<Figure size 576x432 with 1 Axes>"
      ]
     },
     "metadata": {
      "needs_background": "light"
     },
     "output_type": "display_data"
    }
   ],
   "source": [
    "\"\"\"\n",
    "Plot the influence of residuals on the model\n",
    "\"\"\"\n",
    "test_class = OLSInfluence(model)\n",
    "test_class.dfbetas[:5, :]\n",
    "fig, ax = plt.subplots(figsize=(8, 6))\n",
    "fig = plot_leverage_resid2(model, ax=ax)"
   ]
  },
  {
   "cell_type": "code",
   "execution_count": 35,
   "id": "bfcbe5e8",
   "metadata": {},
   "outputs": [
    {
     "name": "stdout",
     "output_type": "stream",
     "text": [
      "                  TEAM     SCORE\n",
      "3              Gonzaga  1.016834\n",
      "1               Baylor  0.950238\n",
      "2             Illinois  0.930538\n",
      "54             Colgate  0.883021\n",
      "49            Winthrop  0.851237\n",
      "0             Michigan  0.845196\n",
      "45               Drake  0.831841\n",
      "31      Loyola Chicago  0.824511\n",
      "316  Stephen F. Austin  0.823829\n",
      "22                 USC  0.801104\n"
     ]
    }
   ],
   "source": [
    "\"\"\"\n",
    "Figure out the top teams in the 2021 season\n",
    "\"\"\"\n",
    "csv_name = 'cbb21.csv'\n",
    "data = pd.read_csv(csv_name)\n",
    "\n",
    "X = data[important_features]\n",
    "\n",
    "predicted = model.predict(X)\n",
    "data['SCORE'] = predicted\n",
    "\n",
    "order = list(reversed(np.argsort(predicted)))\n",
    "\n",
    "# Print top 10 teams\n",
    "print(data.loc[order[:10], ['TEAM', 'SCORE']])"
   ]
  },
  {
   "cell_type": "code",
   "execution_count": null,
   "id": "c153d942",
   "metadata": {},
   "outputs": [],
   "source": [
    "\"\"\"\n",
    "Actual top teams in the 2021 season\n",
    "\n",
    "Gonzaga\n",
    "Houston\n",
    "Kansas\n",
    "Arizona\n",
    "Baylor\n",
    "Villanova\n",
    "Tennessee\n",
    "Texas Tech\n",
    "Kentucky\n",
    "Duke\n",
    "\"\"\""
   ]
  }
 ],
 "metadata": {
  "kernelspec": {
   "display_name": "Python 3",
   "language": "python",
   "name": "python3"
  },
  "language_info": {
   "codemirror_mode": {
    "name": "ipython",
    "version": 3
   },
   "file_extension": ".py",
   "mimetype": "text/x-python",
   "name": "python",
   "nbconvert_exporter": "python",
   "pygments_lexer": "ipython3",
   "version": "3.8.8"
  }
 },
 "nbformat": 4,
 "nbformat_minor": 5
}
