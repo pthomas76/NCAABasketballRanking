{
  "nbformat": 4,
  "nbformat_minor": 0,
  "metadata": {
    "colab": {
      "name": "ML_Proj.ipynb",
      "provenance": [],
      "collapsed_sections": []
    },
    "kernelspec": {
      "name": "python3",
      "display_name": "Python 3"
    },
    "language_info": {
      "name": "python"
    }
  },
  "cells": [
    {
      "cell_type": "code",
      "execution_count": 93,
      "metadata": {
        "id": "CLKH1XkGnop9"
      },
      "outputs": [],
      "source": [
        "import pandas as pd \n",
        "import numpy as np\n",
        "import statsmodels.api as sm\n",
        "import matplotlib.pyplot as plt\n",
        "from sklearn.preprocessing import StandardScaler\n",
        "import math"
      ]
    },
    {
      "cell_type": "code",
      "source": [
        "def add_win_ratio(dataset_name): #Appending target Win:Game ratio in dataset\n",
        "  data = pd.read_csv(dataset_name)\n",
        "  win_ratio = []\n",
        "  wins = data.loc[:, \"W\"]\n",
        "  games_played = data.loc[:, \"G\"]\n",
        "\n",
        "  for i in range(len(wins)):\n",
        "    win_ratio.append(round(wins[i] / games_played[i], 3))\n",
        "\n",
        "  data['W:G'] = win_ratio\n",
        "  return data"
      ],
      "metadata": {
        "id": "rk0Qmta4tmmk"
      },
      "execution_count": 94,
      "outputs": []
    },
    {
      "cell_type": "code",
      "source": [
        "def remove_WGS(data): #Removing W, G, SEED, POSTSEASON and YEAR\n",
        "  del data[\"W\"]\n",
        "  del data[\"G\"]\n",
        "  del data[\"SEED\"]\n",
        "  del data[\"POSTSEASON\"]\n",
        "  del data[\"YEAR\"]\n",
        "  return data"
      ],
      "metadata": {
        "id": "NDjVgGYdwNX1"
      },
      "execution_count": 95,
      "outputs": []
    },
    {
      "cell_type": "code",
      "source": [
        "def weight_PS(data): #Converting postseason rounds to weighted values\n",
        "  post_season = data.loc[:, \"POSTSEASON\"]\n",
        "  for i in range(len(post_season)):\n",
        "    if (post_season[i] == \"NaN\"):\n",
        "      post_season[i] = 0\n",
        "    if (post_season[i] == \"R68\"):\n",
        "      post_season[i] = 1\n",
        "    if (post_season[i] == \"R64\"):\n",
        "      post_season[i] = 2\n",
        "    if (post_season[i] == \"R32\"):\n",
        "      post_season[i] = 3\n",
        "    if (post_season[i] == \"S16\"):\n",
        "      post_season[i] = 4\n",
        "    if (post_season[i] == \"E8\"):\n",
        "      post_season[i] = 5\n",
        "    if (post_season[i] == \"F4\"):\n",
        "      post_season[i] = 6\n",
        "    if (post_season[i] == \"2ND\"):\n",
        "      post_season[i] = 7\n",
        "    if (post_season[i] == \"Champions\"):\n",
        "      post_season[i] = 8\n",
        "  data.POSTSEASON = post_season\n",
        "  return data\n"
      ],
      "metadata": {
        "id": "0UhgA9onxO8O"
      },
      "execution_count": 96,
      "outputs": []
    },
    {
      "cell_type": "code",
      "source": [
        "def forward_selection(data, significance_level=0.01): #Selecting significant features, removing TEAM, CONF and W:G manually\n",
        "  \n",
        "  target = data[\"W:G\"].to_numpy()\n",
        "  features = data.columns.tolist()\n",
        "  lowest_p_value = 0\n",
        "  lowest_p_index = -1\n",
        "  for i in range(len(features)):\n",
        "    if (features[i] == \"TEAM\" or features[i] == \"CONF\" or features[i] == \"W:G\"):\n",
        "      continue\n",
        "    X = data.loc[:, features[i]]\n",
        "    X = sm.add_constant(X)\n",
        "    result = sm.OLS(target, X.astype(float)).fit()\n",
        "    curr_p_value = result.pvalues[1]\n",
        "    if lowest_p_index == -1 or lowest_p_value > curr_p_value:\n",
        "        lowest_p_value = curr_p_value\n",
        "        lowest_p_index = i\n",
        "\n",
        "  removed_features = [data.loc[:, features.pop(lowest_p_index)].name]\n",
        "  while (True):\n",
        "      lowest_p_value = 0\n",
        "      lowest_p_index = -1\n",
        "      for i in range(len(features)):\n",
        "        if (features[i] == \"TEAM\" or features[i] == \"CONF\" or features[i] == \"W:G\"):\n",
        "          continue\n",
        "        removed_features.append(features[i])\n",
        "        X = data.loc[:, removed_features]\n",
        "        X = sm.add_constant(X)\n",
        "        result = sm.OLS(target, X.astype(float)).fit()\n",
        "        removed_features.remove(features[i])\n",
        "        curr_value = result.pvalues[len(result.pvalues) - 1]\n",
        "        if lowest_p_index == -1 or lowest_p_value > curr_value:\n",
        "            lowest_p_value = curr_value\n",
        "            lowest_p_index = i\n",
        "    \n",
        "      if (lowest_p_value >= significance_level):\n",
        "        return removed_features\n",
        "      else:\n",
        "        if (len(features) == 0):\n",
        "            break\n",
        "        removed_features.append(features.pop(lowest_p_index))\n",
        "          \n",
        "  return removed_features"
      ],
      "metadata": {
        "id": "YOpq4nXV4Dww"
      },
      "execution_count": 97,
      "outputs": []
    },
    {
      "cell_type": "code",
      "source": [
        "def standardize_data(data): #In case we want to standardize\n",
        "  scaler = StandardScaler()\n",
        "  standardized = scaler.fit_transform(data[forward_selection(data)].to_numpy(), data[\"W:G\"])\n",
        "  return pd.DataFrame(standardized,columns = forward_selection(data))"
      ],
      "metadata": {
        "id": "Nykvk5wMKvhD"
      },
      "execution_count": 98,
      "outputs": []
    },
    {
      "cell_type": "code",
      "source": [
        "def visualization(data):\n",
        "  features = forward_selection(data)\n",
        "  x = data[\"W:G\"].to_numpy()\n",
        "  data = standardize_data(data)\n",
        "  count = 0\n",
        "  for feature in features:\n",
        "    if count >= 5:\n",
        "      break\n",
        "    count += 1\n",
        "    print(feature)\n",
        "    y = data[feature].to_numpy()\n",
        "    fig, ax = plt.subplots(figsize = (9, 9))\n",
        "    ax.scatter(x, y, alpha=0.7, edgecolors=\"k\")\n",
        "    ax.set_title(f'{feature} VS W:G')\n",
        "    ax.set_xlabel(\"W:G\")\n",
        "    ax.set_ylabel(feature)\n",
        "    b, a = np.polyfit(x, y, deg=1)\n",
        "    ax.plot(x, a + b * x, color=\"k\", lw=2.5)\n",
        "    fig.savefig(f'{feature}_W:G')"
      ],
      "metadata": {
        "id": "RnE5FMWaBj06"
      },
      "execution_count": 99,
      "outputs": []
    },
    {
      "cell_type": "code",
      "source": [
        "data = add_win_ratio(\"cbb.csv\")\n",
        "data = remove_WGS(data)\n",
        "stand = standardize_data(data)\n",
        "W_G = data[\"W:G\"]\n",
        "stand[\"W:G\"] = W_G\n",
        "fwd_sel = forward_selection(data)\n",
        "fwd_sel.append(\"W:G\")\n",
        "data[fwd_sel].to_csv(\"cleaned_cbb.csv\")\n",
        "visualization(data)"
      ],
      "metadata": {
        "colab": {
          "base_uri": "https://localhost:8080/"
        },
        "id": "znUvJR84wo2d",
        "outputId": "ea3ecce3-3187-4b87-a7b2-9c7c3fa1c39d"
      },
      "execution_count": 111,
      "outputs": [
        {
          "output_type": "stream",
          "name": "stderr",
          "text": [
            "/usr/local/lib/python3.7/dist-packages/statsmodels/tsa/tsatools.py:117: FutureWarning: In a future version of pandas all arguments of concat except for the argument 'objs' will be keyword-only\n",
            "  x = pd.concat(x[::order], 1)\n",
            "/usr/local/lib/python3.7/dist-packages/statsmodels/tsa/tsatools.py:117: FutureWarning: In a future version of pandas all arguments of concat except for the argument 'objs' will be keyword-only\n",
            "  x = pd.concat(x[::order], 1)\n"
          ]
        }
      ]
    },
    {
      "cell_type": "code",
      "source": [
        "from google.colab import files\n",
        "for i in range(5):\n",
        "  files.download(\"/content/file.zip\")"
      ],
      "metadata": {
        "id": "zxLM2NrpRiZj"
      },
      "execution_count": null,
      "outputs": []
    }
  ]
}